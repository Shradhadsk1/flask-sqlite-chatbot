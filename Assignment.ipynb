{
  "nbformat": 4,
  "nbformat_minor": 0,
  "metadata": {
    "colab": {
      "provenance": []
    },
    "kernelspec": {
      "name": "python3",
      "display_name": "Python 3"
    },
    "language_info": {
      "name": "python"
    }
  },
  "cells": [
    {
      "cell_type": "code",
      "execution_count": 1,
      "metadata": {
        "colab": {
          "base_uri": "https://localhost:8080/"
        },
        "id": "m19YfOLTDawz",
        "outputId": "85db5043-beec-45ad-8d8a-cd58a8066942"
      },
      "outputs": [
        {
          "output_type": "stream",
          "name": "stdout",
          "text": [
            "Database setup complete!\n"
          ]
        }
      ],
      "source": [
        "import sqlite3\n",
        "\n",
        "# Create SQLite database\n",
        "conn = sqlite3.connect(\"company.db\")\n",
        "cursor = conn.cursor()\n",
        "\n",
        "# Create Employees table\n",
        "cursor.execute(\"\"\"\n",
        "CREATE TABLE IF NOT EXISTS Employees (\n",
        "    ID INTEGER PRIMARY KEY,\n",
        "    Name TEXT NOT NULL,\n",
        "    Department TEXT NOT NULL,\n",
        "    Salary INTEGER NOT NULL,\n",
        "    Hire_Date TEXT NOT NULL\n",
        ")\n",
        "\"\"\")\n",
        "\n",
        "# Create Departments table\n",
        "cursor.execute(\"\"\"\n",
        "CREATE TABLE IF NOT EXISTS Departments (\n",
        "    ID INTEGER PRIMARY KEY,\n",
        "    Name TEXT NOT NULL,\n",
        "    Manager TEXT NOT NULL\n",
        ")\n",
        "\"\"\")\n",
        "\n",
        "# Insert sample data\n",
        "cursor.executemany(\"INSERT OR IGNORE INTO Employees VALUES (?, ?, ?, ?, ?)\", [\n",
        "    (1, 'Alice', 'Sales', 50000, '2021-01-15'),\n",
        "    (2, 'Bob', 'Engineering', 70000, '2020-06-10'),\n",
        "    (3, 'Charlie', 'Marketing', 60000, '2022-03-20')\n",
        "])\n",
        "\n",
        "cursor.executemany(\"INSERT OR IGNORE INTO Departments VALUES (?, ?, ?)\", [\n",
        "    (1, 'Sales', 'Alice'),\n",
        "    (2, 'Engineering', 'Bob'),\n",
        "    (3, 'Marketing', 'Charlie')\n",
        "])\n",
        "\n",
        "conn.commit()\n",
        "conn.close()\n",
        "\n",
        "print(\"Database setup complete!\")\n"
      ]
    },
    {
      "cell_type": "code",
      "source": [
        "import re\n",
        "\n",
        "def extract_department(query, pattern):\n",
        "    match = re.search(pattern, query)\n",
        "    return match.group(1).strip() if match else None\n",
        "\n",
        "\n",
        "\n",
        "\n",
        "\n",
        "def process_query(query):\n",
        "    conn = sqlite3.connect(\"company.db\")\n",
        "    cursor = conn.cursor()\n",
        "    query = query.lower()\n",
        "\n",
        "    if \"employees in the\" in query:\n",
        "        dept = extract_department(query, r\"employees in the (.*?) department\")\n",
        "        if dept:\n",
        "            cursor.execute(\"SELECT Name FROM Employees WHERE LOWER(Department) = LOWER(?)\", (dept,))\n",
        "            results = cursor.fetchall()\n",
        "            response = \", \".join([row[0] for row in results]) if results else \"No employees found.\"\n",
        "        else:\n",
        "            response = \"Invalid department format.\"\n",
        "\n",
        "    elif \"manager of the\" in query:\n",
        "        dept = extract_department(query, r\"manager of the (.*?) department\")\n",
        "        if dept:\n",
        "            cursor.execute(\"SELECT Manager FROM Departments WHERE LOWER(Name) = LOWER(?)\", (dept,))\n",
        "            result = cursor.fetchone()\n",
        "            response = result[0] if result else \"Department not found.\"\n",
        "        else:\n",
        "            response = \"Invalid department format.\"\n",
        "\n",
        "    elif \"hired after\" in query:\n",
        "        date = query.split(\"hired after \")[-1]\n",
        "        cursor.execute(\"SELECT Name FROM Employees WHERE Hire_Date > ?\", (date,))\n",
        "        results = cursor.fetchall()\n",
        "        response = \", \".join([row[0] for row in results]) if results else \"No employees found.\"\n",
        "\n",
        "    elif \"total salary expense for the\" in query:\n",
        "        dept = extract_department(query, r\"total salary expense for the (.*?) department\")\n",
        "        if dept:\n",
        "            cursor.execute(\"SELECT SUM(Salary) FROM Employees WHERE LOWER(Department) = LOWER(?)\", (dept,))\n",
        "            result = cursor.fetchone()\n",
        "            response = f\"Total salary expense: {result[0]}\" if result and result[0] else \"Department not found or no employees.\"\n",
        "        else:\n",
        "            response = \"Invalid department format.\"\n",
        "\n",
        "    else:\n",
        "        response = \"Sorry, I don't understand that query.\"\n",
        "\n",
        "    conn.close()\n",
        "    return response\n"
      ],
      "metadata": {
        "id": "Q2Lbg5P2Dy5y"
      },
      "execution_count": 13,
      "outputs": []
    },
    {
      "cell_type": "code",
      "source": [
        "query1 = \"Show me all employees in the Sales department.\"\n",
        "query2 = \"Who is the manager of the Marketing department?\"\n",
        "query3 = \"List all employees hired after 2021-01-01.\"\n",
        "query4 = \"What is the total salary expense for the Engineering department?\"\n",
        "\n",
        "print(\"Query 1:\", process_query(query1))  # Should return: Alice\n",
        "print(\"Query 2:\", process_query(query2))  # Should return: Charlie\n",
        "print(\"Query 3:\", process_query(query3))  # Should return: Alice, Charlie\n",
        "print(\"Query 4:\", process_query(query4))  # Should return: Total salary expense: 70000\n"
      ],
      "metadata": {
        "colab": {
          "base_uri": "https://localhost:8080/"
        },
        "id": "-KpvFrpgGH3N",
        "outputId": "c7eb4012-5232-419a-8c03-e5d81aa2335c"
      },
      "execution_count": 14,
      "outputs": [
        {
          "output_type": "stream",
          "name": "stdout",
          "text": [
            "Query 1: Alice\n",
            "Query 2: Charlie\n",
            "Query 3: Alice, Charlie\n",
            "Query 4: Total salary expense: 70000\n"
          ]
        }
      ]
    }
  ]
}